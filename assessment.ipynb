Penyelesaian Soal ETL Green Finance Assessment
!pip install pandas
Requirement already satisfied: pandas in c:\users\046itavt\appdata\local\programs\python\python39\lib\site-packages (2.2.2)
Requirement already satisfied: numpy>=1.22.4 in c:\users\046itavt\appdata\local\programs\python\python39\lib\site-packages (from pandas) (2.0.0)
Requirement already satisfied: python-dateutil>=2.8.2 in c:\users\046itavt\appdata\local\programs\python\python39\lib\site-packages (from pandas) (2.9.0.post0)
Requirement already satisfied: pytz>=2020.1 in c:\users\046itavt\appdata\local\programs\python\python39\lib\site-packages (from pandas) (2024.1)
Requirement already satisfied: tzdata>=2022.7 in c:\users\046itavt\appdata\local\programs\python\python39\lib\site-packages (from pandas) (2024.1)
Requirement already satisfied: six>=1.5 in c:\users\046itavt\appdata\local\programs\python\python39\lib\site-packages (from python-dateutil>=2.8.2->pandas) (1.16.0)
[notice] A new release of pip is available: 25.0 -> 25.1.1
[notice] To update, run: python.exe -m pip install --upgrade pip
import pandas as pd
from sklearn.tree import DecisionTreeClassifier
from sklearn.model_selection import train_test_split
from sklearn.metrics import accuracy_score

# Load datasets
env_df = pd.read_excel("C:/Users/046ITAVT/Documents/046ITAVT/Training/A9046DB2025/202506/Ujian/Environmental_Dataset.xlsx")
fin_df = pd.read_excel("C:/Users/046ITAVT/Documents/046ITAVT/Training/A9046DB2025/202506/Ujian/Financial_Dataset.xlsx")
econ_df = pd.read_excel("C:/Users/046ITAVT/Documents/046ITAVT/Training/A9046DB2025/202506/Ujian/Economic_Dataset.xlsx")
social_df = pd.read_excel("C:/Users/046ITAVT/Documents/046ITAVT/Training/A9046DB2025/202506/Ujian/Social_Dataset.xlsx")
geo_df = pd.read_excel("C:/Users/046ITAVT/Documents/046ITAVT/Training/A9046DB2025/202506/Ujian/Geospatial_Dataset.xlsx")
env_df.head()
Project_ID	CO2_Reduction	Energy_Output	Environmental_Risk_Index	Konteks_Lingkungan	Peringkat_Dampak
0	PLTS-NTT-001	75000	25000	45	Sumba: radiasi matahari tinggi, rawan kekeringan	High: 🌿🌿🌿🌿
1	PLTM-SUMUT-001	30000	10000	60	Tapanuli: banjir musiman, debit air stabil	Medium: 🌿🌿🌿
2	PLTS-JATIM-001	90000	30000	30	Surabaya: risiko rendah, efisiensi tinggi	High: 🌿🌿🌿🌿🌿
3	PLTM-KALB-001	35000	12000	55	Kalbar: rawan banjir, hutan lindung dekat	Medium: 🌿🌿🌿
4	PLTS-SULS-001	60000	20000	40	Makassar: cuaca stabil, risiko sedang	High: 🌿🌿🌿🌿
fin_df.head()
Project_ID	Investment_Cost	Revenue_Stream	Debt_Ratio	Payment_Delay	Konteks_Proyek	Status_Rank
0	PLTS-NTT-001	150.00	12.5	0.65	30	PLTS di Sumba, biaya logistik tinggi, pendanaa...	Medium: ★★★☆☆
1	PLTM-SUMUT-001	80.00	6.8	0.55	15	PLTM di Tapanuli, akses mudah ke jaringan PLN	Low: ★★☆☆☆
2	PLTS-JATIM-001	200.23	18.0	0.70	45	PLTS besar di Surabaya, permintaan pasar tinggi	High: ★★★★☆
3	PLTM-KALB-001	90.00	7.2	0.60	20	PLTM di Kalimantan Barat, tantangan lahan adat	Medium: ★★★☆☆
4	PLTS-SULS-001	125.50	10.0	0.50	10	PLTS di Makassar, efisiensi tinggi distribusi	Low: ★☆☆☆☆
econ_df.head()
Project_ID	GDP_Growth	Interest_Rate	Bond_Yield	Konteks_Ekonomi	Daya_Tarik_Investasi
0	PLTS-NTT-001	4.5	4.2	5.1	Sumba: pertumbuhan rendah, pariwisata hijau	Medium: 💵💵💵
1	PLTM-SUMUT-001	5.2	3.8	4.8	Tapanuli: ekonomi agro, stabil	High: 💵💵💵💵
2	PLTS-JATIM-001	6.0	0.0	5.0	Surabaya: pasar besar, industri kuat	High: 💵💵💵💵💵
3	PLTM-KALB-001	4.8	4.1	5.2	Kalbar: ekonomi perkebunan, sedang tumbuh	Medium: 💵💵💵
4	PLTS-SULS-001	5.5	0.0	4.9	Makassar: hub ekonomi, pendidikan tinggi	High: 💵💵💵💵
social_df.head()
Project_ID	Land_Status	Community_Support	Population_Density	Konteks_Sosial	Tingkat_Konflik
0	PLTS-NTT-001	Adat	70	50	Sumba: lahan adat, konsultasi intensif	High: ⚠️⚠️⚠️
1	PLTM-SUMUT-001	Negara	85	200	Tapanuli: izin BPN lancar, dukungan tinggi	Low: ⚠️
2	PLTS-JATIM-001	Swasta	90	800	Surabaya: lahan swasta, masyarakat urban	Low: ⚠️
3	PLTM-KALB-001	Adat	65	100	Kalbar: lahan adat, risiko konflik sedang	High: ⚠️⚠️⚠️
4	PLTS-SULS-001	Negara	80	300	Makassar: izin mudah, dukungan baik	Medium: ⚠️⚠️
geo_df.head()
Project_ID	Solar_Irradiance	Water_Flow	Distance_to_Grid	Konteks_Geospasial	Efisiensi_Lokasi
0	PLTS-NTT-001	5.8	0.0	8	Sumba: radiasi tinggi, dekat jaringan	High: 📍📍📍📍
1	PLTM-SUMUT-001	0.0	1.5	5	Tapanuli: debit stabil, akses PLN baik	High: 📍📍📍📍
2	PLTS-JATIM-001	5.5	0.0	3	Surabaya: radiasi baik, jaringan dekat	High: 📍📍📍📍📍
3	PLTM-KALB-001	0.0	1.8	10	Kalbar: debit tinggi, jaringan sedang	Medium: 📍📍📍
4	PLTS-SULS-001	5.7	0.0	6	Makassar: radiasi tinggi, akses baik	High: 📍📍📍📍
Soal 1: If-Else dan Aritmatika
merged_1 = pd.merge(env_df, fin_df, on="Project_ID")
merged_1.head()
Project_ID	CO2_Reduction	Energy_Output	Environmental_Risk_Index	Konteks_Lingkungan	Peringkat_Dampak	Investment_Cost	Revenue_Stream	Debt_Ratio	Payment_Delay	Konteks_Proyek	Status_Rank
0	PLTS-NTT-001	75000	25000	45	Sumba: radiasi matahari tinggi, rawan kekeringan	High: 🌿🌿🌿🌿	150.00	12.5	0.65	30	PLTS di Sumba, biaya logistik tinggi, pendanaa...	Medium: ★★★☆☆
1	PLTM-SUMUT-001	30000	10000	60	Tapanuli: banjir musiman, debit air stabil	Medium: 🌿🌿🌿	80.00	6.8	0.55	15	PLTM di Tapanuli, akses mudah ke jaringan PLN	Low: ★★☆☆☆
2	PLTS-JATIM-001	90000	30000	30	Surabaya: risiko rendah, efisiensi tinggi	High: 🌿🌿🌿🌿🌿	200.23	18.0	0.70	45	PLTS besar di Surabaya, permintaan pasar tinggi	High: ★★★★☆
3	PLTM-KALB-001	35000	12000	55	Kalbar: rawan banjir, hutan lindung dekat	Medium: 🌿🌿🌿	90.00	7.2	0.60	20	PLTM di Kalimantan Barat, tantangan lahan adat	Medium: ★★★☆☆
4	PLTS-SULS-001	60000	20000	40	Makassar: cuaca stabil, risiko sedang	High: 🌿🌿🌿🌿	125.50	10.0	0.50	10	PLTS di Makassar, efisiensi tinggi distribusi	Low: ★☆☆☆☆
merged_1 = pd.merge(env_df, fin_df, on="Project_ID")
plts = merged_1[merged_1["Project_ID"].str.startswith("PLTS")]

for _, row in plts.iterrows():
    try:
        ratio = row["CO2_Reduction"] / (row["Investment_Cost"] * 1_000)
        category = "High" if ratio >= 0.5 else "Low"
        print(f"{row['Project_ID']}: {ratio:.2f} ({category})")
    except ZeroDivisionError:
        print(f"{row['Project_ID']}: Cannot compute")
PLTS-NTT-001: 0.50 (High)
PLTS-JATIM-001: 0.45 (Low)
PLTS-SULS-001: 0.48 (Low)
PLTS-NTB-001: 0.44 (Low)
PLTS-JABW-001: 0.43 (Low)
Soal 2: For Loop dan List
pltm_list = [row["CO2_Reduction"] for _, row in env_df.iterrows() if row["Project_ID"].startswith("PLTM")]
if pltm_list:
    avg = sum(pltm_list) / len(pltm_list)
    print(f"Average CO2 Reduction for PLTM Projects: {avg:.0f} tons CO2e")
else:
    print("No PLTM projects found.")
Average CO2 Reduction for PLTM Projects: 34600 tons CO2e
Soal 3: While Loop dan Input (opsional)
social_dict = social_df.set_index("Project_ID")[["Land_Status", "Tingkat_Konflik"]].to_dict(orient="index")

while True:
    pid = input("Enter Project_ID (or 'DONE' to finish): ").strip()
    if pid.upper() == "DONE":
        break
    elif pid in social_dict:
        land = social_dict[pid]["Land_Status"]
        konflik = social_dict[pid]["Tingkat_Konflik"]
        print(f"{pid} - Land Status: {land}, Tingkat Konflik: {konflik}")
    else:
        print("Project not found")
PLTS-NTT-001 - Land Status: Adat, Tingkat Konflik: High: ⚠️⚠️⚠️
PLTM-KALB-001 - Land Status: Adat, Tingkat Konflik: High: ⚠️⚠️⚠️
Soal 4: Dictionary Filtering
merged_4 = pd.merge(econ_df, social_df, on="Project_ID")
project_info = {
    row["Project_ID"]: (row["Daya_Tarik_Investasi"], row["Tingkat_Konflik"])
    for _, row in merged_4.iterrows()
}

print("Projects with High Investment Attractiveness and Low Conflict:")
for pid, (attract, conflict) in project_info.items():
    if attract == "High" and conflict == "Low":
        print(pid)
Projects with High Investment Attractiveness and Low Conflict:
Soal 5: Function
merged_5 = pd.merge(geo_df, fin_df, on="Project_ID")
def calculate_total_investment(project_ids, merged_5):
    total = 0
    for pid in project_ids:
        row = merged_5[merged_5['Project_ID'] == pid]
        if not row.empty:
            lokasi = str(row.iloc[0]['Efisiensi_Lokasi']).split(":")[0].strip()
            cost = row.iloc[0]['Investment_Cost']
            if str(lokasi).strip() == "High":
                total += cost
    return total

project_ids = merged_5['Project_ID'].tolist()
total_investment = calculate_total_investment(project_ids, merged_5)
print(f"Total Investment for High-Efficiency Locations: {total_investment:.2f} billion Rp")
Total Investment for High-Efficiency Locations: 955.73 billion Rp
Soal 6: Fungsi Error Handling
def compute_co2_efficiency(co2_reduction, investment_cost):
    try:
        ratio = co2_reduction / (investment_cost * 1_000)
        return round(ratio, 2)
    except ZeroDivisionError:
        return "Cannot compute"

for pid in ["PLTS-NTT-001", "PLTS-JATIM-001", "PLTM-PAPU-001"]:
    row = merged_1[merged_1["Project_ID"] == pid]
    if not row.empty:
        co2 = row.iloc[0]["CO2_Reduction"]
        inv = row.iloc[0]["Investment_Cost"]
        result = compute_co2_efficiency(co2, inv)
        print(f"{pid}: {result}")
    else:
        print(f"{pid}: Data not found")
PLTS-NTT-001: 0.5
PLTS-JATIM-001: 0.45
PLTM-PAPU-001: 0.4
Soal 7: Try-Except dalam Loop
energy_dict = env_df.set_index("Project_ID")["Energy_Output"].to_dict()
total_energy = 0
count = 0
for pid in ["PLTS-NTT-001", "PLTM-SULUT-002", "PLTA-JABAR-999", "PLTM-PAPU-001"]:
    try:
        energy = energy_dict[pid]
        total_energy += energy
        count += 1
    except KeyError:
        print(f"{pid}: Energy Output not found")
if count:
    avg_energy = total_energy / count
    print(f"Average Energy Output: {avg_energy:.0f} kWh")
else:
    print("No valid energy data found.")
PLTM-SULUT-002: Energy Output not found
PLTA-JABAR-999: Energy Output not found
Average Energy Output: 20000 kWh
Bonus: Decision Tree
merged_all = econ_df.merge(env_df, on="Project_ID").merge(fin_df, on="Project_ID")
X = merged_all[["GDP_Growth", "CO2_Reduction", "Investment_Cost"]]
y = merged_all["Daya_Tarik_Investasi"]
X_train, X_test, y_train, y_test = train_test_split(X, y, test_size=0.2, random_state=42)
model = DecisionTreeClassifier(random_state=42)
model.fit(X_train, y_train)
y_pred = model.predict(X_test)
print(f"Model Accuracy: {accuracy_score(y_test, y_pred):.2f}")
new_project = pd.DataFrame({"GDP_Growth": [5.0], "CO2_Reduction": [70000], "Investment_Cost": [150]})
print("Prediction for new project:", model.predict(new_project)[0])
Model Accuracy: 0.50
Prediction for new project: Medium: 💵💵💵
